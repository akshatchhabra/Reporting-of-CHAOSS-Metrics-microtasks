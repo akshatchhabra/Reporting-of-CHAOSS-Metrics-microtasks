{
 "cells": [
  {
   "cell_type": "markdown",
   "metadata": {},
   "source": [
    "## Microtask 1 ##\n",
    "Produce a listing of the number of new committers per month, and the number of commits for each of them, as a table and as a CSV file. Use the GrimoireLab enriched index for git."
   ]
  },
  {
   "cell_type": "code",
   "execution_count": 12,
   "metadata": {},
   "outputs": [],
   "source": [
    "from elasticsearch import Elasticsearch\n",
    "from elasticsearch_dsl import Search, aggs\n",
    "from pprint import pprint\n",
    "from datetime import datetime\n",
    "import pandas as pd"
   ]
  },
  {
   "cell_type": "markdown",
   "metadata": {},
   "source": [
    "**Step1**: Instantiate the Elasticsearch client"
   ]
  },
  {
   "cell_type": "code",
   "execution_count": 14,
   "metadata": {},
   "outputs": [],
   "source": [
    "es_client = Elasticsearch('http://localhost:9200')"
   ]
  },
  {
   "cell_type": "markdown",
   "metadata": {},
   "source": [
    "**Step2**: Use the `p2o.py` script to fetch the git data for perceval repository and store the raw records in `git_raw` index, and the enriched data in the `git` index"
   ]
  },
  {
   "cell_type": "code",
   "execution_count": 16,
   "metadata": {},
   "outputs": [
    {
     "name": "stderr",
     "output_type": "stream",
     "text": [
      "2018-03-13 11:18:33,396 Debug mode activated\n",
      "2018-03-13 11:18:33,398 Feeding Ocean from git (https://github.com/grimoirelab/perceval.git)\n",
      "2018-03-13 11:18:33,418 Found version of ES instance at http://localhost:9200: 6.\n",
      "2018-03-13 11:18:33,462 Creating OceanConf index http://localhost:9200/conf\n",
      "2018-03-13 11:18:33,463 http://localhost:9200/git_raw/_search \n",
      "        { \"size\": 0, \n",
      "                \"query\" : {\n",
      "                    \"term\" : { \"origin\" : \"https://github.com/grimoirelab/perceval.git\"  }\n",
      "                 },\n",
      "              \n",
      "            \"aggs\": {\n",
      "                \"1\": {\n",
      "                  \"max\": {\n",
      "                    \"field\": \"metadata__updated_on\"\n",
      "                  }\n",
      "                }\n",
      "            }\n",
      "        \n",
      "        } \n",
      "2018-03-13 11:18:33,475 Incremental from: 2018-03-13 05:24:02+00:00\n",
      "2018-03-13 11:18:36,314 Adding items to Ocean for <grimoire_elk.ocean.git.GitOcean object at 0x7f97847b5710> (1 items)\n",
      "2018-03-13 11:18:36,314 Adding items to http://localhost:9200/git_raw/items/_bulk (in 1000 packs)\n",
      "2018-03-13 11:18:36,473 bulk packet sent (0.16 sec prev, 1 total, 0.00 MB)\n",
      "2018-03-13 11:18:36,474 Added 1 items to ocean\n",
      "2018-03-13 11:18:36,475 Dropped 0 items using drop_item filter\n",
      "2018-03-13 11:18:36,475 Finished in 0.05 min\n",
      "2018-03-13 11:18:36,475 Adding repo to Ocean http://localhost:9200/conf/repos/git_raw_https:__github.com_grimoirelab_perceval.git {'repo_update_start': '2018-03-13T11:18:33.462990', 'repo_update': '2018-03-13T11:18:36.475826', 'backend_name': 'git', 'backend_params': ['https://github.com/grimoirelab/perceval.git'], 'project': None, 'index': 'git_raw', 'index_enrich': 'git', 'success': True}\n",
      "2018-03-13 11:18:36,482 Done git \n",
      "2018-03-13 11:18:37,484 Backend feed completed\n",
      "2018-03-13 11:18:37,500 Found version of ES instance at http://localhost:9200: 6.\n",
      "2018-03-13 11:18:37,546 Last enrichment: None\n",
      "2018-03-13 11:18:37,553 Found version of ES instance at http://localhost:9200: 6.\n",
      "2018-03-13 11:18:37,585 Adding enrichment data to http://localhost:9200/git\n",
      "2018-03-13 11:18:37,586 Adding items to http://localhost:9200/git/items/_bulk (in 1000 packs)\n",
      "2018-03-13 11:18:37,586 Creating a elastic items generator.\n",
      "2018-03-13 11:18:37,587 Raw query to http://localhost:9200/git_raw/_search?scroll=10m&size=100\n",
      "{\n",
      "    \"sort\": {\n",
      "        \"metadata__timestamp\": {\n",
      "            \"order\": \"asc\"\n",
      "        }\n",
      "    },\n",
      "    \"query\": {\n",
      "        \"bool\": {\n",
      "            \"must\": [\n",
      "                {\n",
      "                    \"term\": {\n",
      "                        \"origin\": \"https://github.com/grimoirelab/perceval.git\"\n",
      "                    }\n",
      "                }\n",
      "            ]\n",
      "        }\n",
      "    }\n",
      "}\n",
      "2018-03-13 11:18:37,616 Fetching from http://localhost:9200/git_raw: 100 received\n",
      "2018-03-13 11:18:37,719 Fetching from http://localhost:9200/git_raw: 100 received\n",
      "2018-03-13 11:18:37,819 Fetching from http://localhost:9200/git_raw: 100 received\n",
      "2018-03-13 11:18:37,919 Fetching from http://localhost:9200/git_raw: 100 received\n",
      "2018-03-13 11:18:38,012 Fetching from http://localhost:9200/git_raw: 100 received\n",
      "2018-03-13 11:18:38,103 Fetching from http://localhost:9200/git_raw: 100 received\n",
      "2018-03-13 11:18:38,201 Fetching from http://localhost:9200/git_raw: 100 received\n",
      "2018-03-13 11:18:38,292 Fetching from http://localhost:9200/git_raw: 100 received\n",
      "2018-03-13 11:18:38,378 Fetching from http://localhost:9200/git_raw: 100 received\n",
      "2018-03-13 11:18:38,470 Fetching from http://localhost:9200/git_raw: 100 received\n",
      "2018-03-13 11:18:38,558 Fetching from http://localhost:9200/git_raw: 100 received\n",
      "2018-03-13 11:18:39,148 Added 1000 items to http://localhost:9200/git/items/_bulk (1.60 MB)\n",
      "2018-03-13 11:18:39,261 Fetching from http://localhost:9200/git_raw: 24 received\n",
      "2018-03-13 11:18:39,300 Fetching from http://localhost:9200/git_raw: done receiving\n",
      "2018-03-13 11:18:39,488 Total items enriched 1124 \n",
      "2018-03-13 11:18:39,489 Done git \n",
      "2018-03-13 11:18:39,489 Enrich backend completed\n",
      "2018-03-13 11:18:39,490 Finished in 0.10 min\n"
     ]
    }
   ],
   "source": [
    "%%bash\n",
    "p2o.py --enrich --index git_raw --index-enrich git -e http://localhost:9200 --no_inc --debug git https://github.com/grimoirelab/perceval.git"
   ]
  },
  {
   "cell_type": "markdown",
   "metadata": {},
   "source": [
    "**Step3**: Create a DSL search object to query the enriched `git` index created earlier. The search query will bucket the commits data by the `author` field.<br> For each bucket, it will calculate two values:\n",
    "1. The first commit by selecting the record with the minimum value on the field *'author_date'*, stored in the attribute `first_commit`\n",
    "2. The number of commits for that author by calculating the number of unique values contained in the commit *'hash'* field, stored in the attribute `total_commits`"
   ]
  },
  {
   "cell_type": "code",
   "execution_count": 18,
   "metadata": {},
   "outputs": [],
   "source": [
    "search = Search(using=es_client, index='git')\n",
    "search.aggs.bucket('author', 'terms', field='author_name', size=100)\\\n",
    "           .metric('first_commit', 'min', field='author_date')\\\n",
    "           .metric('total_commits', 'cardinality', field='hash')\n",
    "results = search.execute()"
   ]
  },
  {
   "cell_type": "markdown",
   "metadata": {},
   "source": [
    "**Step4**: From the search results, create a dataframe holding the `first_commit`, `author` and `total_commit` values for each author"
   ]
  },
  {
   "cell_type": "code",
   "execution_count": 20,
   "metadata": {},
   "outputs": [],
   "source": [
    "commiters = pd.DataFrame.from_records([ \n",
    "                  {\n",
    "                    'first_commit' : datetime.utcfromtimestamp(bucket['first_commit']['value']/1000),\n",
    "                    'author' : bucket['key'],\n",
    "                    'total_commits' : bucket['total_commits']['value']\n",
    "                  } \n",
    "                  for bucket in results['aggregations']['author']['buckets']\n",
    "                ])"
   ]
  },
  {
   "cell_type": "markdown",
   "metadata": {},
   "source": [
    "**Step5**: Sort the dataframe by the `total_commits` and produce a listing of commits for each author"
   ]
  },
  {
   "cell_type": "code",
   "execution_count": 22,
   "metadata": {},
   "outputs": [
    {
     "name": "stdout",
     "output_type": "stream",
     "text": [
      "                            author  total_commits\n",
      "0                  Santiago Dueñas            724\n",
      "1                Valerio Cosentino            260\n",
      "2                   Alberto Martín             51\n",
      "3              Alvaro del Castillo             46\n",
      "4       Jesus M. Gonzalez-Barahona             18\n",
      "5                valerio cosentino              6\n",
      "6                             quan              5\n",
      "7           Miguel Ángel Fernández              3\n",
      "8                         camillem              2\n",
      "9                          valerio              2\n",
      "10                     David Esler              1\n",
      "11            David Pose Fernández              1\n",
      "12                  Israel Herraiz              1\n",
      "13  J. Manrique Lopez de la Fuente              1\n",
      "14                 Luis Cañas Díaz              1\n",
      "15                   Stephan Barth              1\n",
      "16                           david              1\n"
     ]
    }
   ],
   "source": [
    "commiters.sort_values(by='total_commits')\n",
    "pprint (commiters[['author', 'total_commits']])"
   ]
  },
  {
   "cell_type": "markdown",
   "metadata": {},
   "source": [
    "**Step6**: Group the `first_commit` column of the dataframe on a monthly basis, and obtain the counts for each grouping"
   ]
  },
  {
   "cell_type": "code",
   "execution_count": 23,
   "metadata": {},
   "outputs": [
    {
     "name": "stdout",
     "output_type": "stream",
     "text": [
      "first_commit\n",
      "2015-08    1\n",
      "2015-12    2\n",
      "2016-02    1\n",
      "2016-03    2\n",
      "2016-04    1\n",
      "2016-09    1\n",
      "2017-01    1\n",
      "2017-09    2\n",
      "2017-10    2\n",
      "2017-11    1\n",
      "2017-12    1\n",
      "2018-01    1\n",
      "2018-02    1\n",
      "Freq: M, Name: first_commit, dtype: int64\n"
     ]
    }
   ],
   "source": [
    "commiters_by_month = commiters['first_commit']\\\n",
    "                     .groupby(commiters.first_commit.dt.to_period('M'))\\\n",
    "                     .agg('count')\n",
    "pprint (commiters_by_month)"
   ]
  },
  {
   "cell_type": "markdown",
   "metadata": {},
   "source": [
    "**Step7**: Export the listings produced above in csv format"
   ]
  },
  {
   "cell_type": "code",
   "execution_count": 24,
   "metadata": {},
   "outputs": [],
   "source": [
    "commiters.to_csv('author_commits.csv', columns=['author', 'total_commits'], index=False)\n",
    "commiters_by_month.to_csv('commiters_by_month.csv')"
   ]
  },
  {
   "cell_type": "code",
   "execution_count": null,
   "metadata": {},
   "outputs": [],
   "source": []
  }
 ],
 "metadata": {
  "kernelspec": {
   "display_name": "Python 3",
   "language": "python",
   "name": "python3"
  },
  "language_info": {
   "codemirror_mode": {
    "name": "ipython",
    "version": 3
   },
   "file_extension": ".py",
   "mimetype": "text/x-python",
   "name": "python",
   "nbconvert_exporter": "python",
   "pygments_lexer": "ipython3",
   "version": "3.5.2"
  }
 },
 "nbformat": 4,
 "nbformat_minor": 2
}
