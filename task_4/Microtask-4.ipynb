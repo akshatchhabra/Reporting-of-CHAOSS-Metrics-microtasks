{
 "cells": [
  {
   "cell_type": "markdown",
   "metadata": {},
   "source": [
    "## Microtask 4 ##\n",
    "Perform any other analysis you may find interesting, based on GrimoireLab enriched indexes for git and GitHub repositories.\n",
    "\n",
    "#### Analysing contributions by Geography ####\n",
    "In this microtask we will be analysing user contributions by the geographical region"
   ]
  },
  {
   "cell_type": "code",
   "execution_count": 7,
   "metadata": {},
   "outputs": [],
   "source": [
    "from elasticsearch import Elasticsearch\n",
    "from elasticsearch_dsl import Search\n",
    "from pprint import pprint\n",
    "import matplotlib.pyplot as plt\n",
    "import pandas as pd\n",
    "import requests\n",
    "import os"
   ]
  },
  {
   "cell_type": "markdown",
   "metadata": {},
   "source": [
    "We will be using the _[gmaps](https://github.com/pbugnion/gmaps)_ library for plotting the geographical data"
   ]
  },
  {
   "cell_type": "code",
   "execution_count": 4,
   "metadata": {},
   "outputs": [],
   "source": [
    "import gmaps\n",
    "gmaps.configure(api_key=os.environ[\"GOOGLE_API_KEY\"])"
   ]
  },
  {
   "cell_type": "markdown",
   "metadata": {},
   "source": [
    "**Step1**: Gather all the repositories for the Chaoss orgranization from the Github API and store the name of the repositories in the `repo_names` list"
   ]
  },
  {
   "cell_type": "code",
   "execution_count": 8,
   "metadata": {},
   "outputs": [],
   "source": [
    "chaoss_repositories = requests.get('https://api.github.com/users/chaoss/repos')\n",
    "repo_names = [chaoss_repo['name'] for chaoss_repo in chaoss_repositories.json()]"
   ]
  },
  {
   "cell_type": "markdown",
   "metadata": {},
   "source": [
    "**Step2**: Use the `p2o.py` script to fetch the github data for all the repositories, and store the raw records in `chaoss_github_raw` index and the enriched data in `chaoss_github` index"
   ]
  },
  {
   "cell_type": "code",
   "execution_count": null,
   "metadata": {},
   "outputs": [],
   "source": [
    "for repo_name in repo_names:\n",
    "    !p2o.py --enrich --index chaoss_github_raw --index-enrich chaoss_github -e http://localhost:9200 --no_inc --debug github chaoss {repo_name} -t 47fb3a29d189e294e3fdc83ecfffb13f737fb684 --sleep-for-rate"
   ]
  },
  {
   "cell_type": "markdown",
   "metadata": {},
   "source": [
    "**Step3**: Instantiate the Elasticsearch client"
   ]
  },
  {
   "cell_type": "code",
   "execution_count": 5,
   "metadata": {},
   "outputs": [],
   "source": [
    "es_client = Elasticsearch('http://localhost:9200')"
   ]
  },
  {
   "cell_type": "markdown",
   "metadata": {},
   "source": [
    "**Step4**: Create a DSL search object to query the enriched `chaoss_github` index created earlier. The search query will pick out the `user_geolocation` field for all `pull requests`"
   ]
  },
  {
   "cell_type": "code",
   "execution_count": 27,
   "metadata": {},
   "outputs": [],
   "source": [
    "github_search = Search(using=es_client, index='chaoss_github')\\\n",
    "               .source(['user_geolocation'])\\\n",
    "               .filter('term', item_type='pull request')\n",
    "github_results = github_search.scan()"
   ]
  },
  {
   "cell_type": "markdown",
   "metadata": {},
   "source": [
    "**Step5**: Pull out the `(latitude, longitude)` values from the pull requests data (when present) into a list"
   ]
  },
  {
   "cell_type": "code",
   "execution_count": 28,
   "metadata": {},
   "outputs": [],
   "source": [
    "locations = [(result['user_geolocation']['lat'], result['user_geolocation']['lon']) \n",
    "             for result in github_results if result['user_geolocation']]"
   ]
  },
  {
   "cell_type": "markdown",
   "metadata": {},
   "source": [
    "**Step6**: Plot a heatmap showing the distribution of pull requests by geographical location using the gmaps library"
   ]
  },
  {
   "cell_type": "code",
   "execution_count": 29,
   "metadata": {},
   "outputs": [
    {
     "data": {
      "application/vnd.jupyter.widget-view+json": {
       "model_id": "61772eb75daa49f3b4fbeac9ef43d11d",
       "version_major": 2,
       "version_minor": 0
      },
      "text/html": [
       "<p>Failed to display Jupyter Widget of type <code>Figure</code>.</p>\n",
       "<p>\n",
       "  If you're reading this message in the Jupyter Notebook or JupyterLab Notebook, it may mean\n",
       "  that the widgets JavaScript is still loading. If this message persists, it\n",
       "  likely means that the widgets JavaScript library is either not installed or\n",
       "  not enabled. See the <a href=\"https://ipywidgets.readthedocs.io/en/stable/user_install.html\">Jupyter\n",
       "  Widgets Documentation</a> for setup instructions.\n",
       "</p>\n",
       "<p>\n",
       "  If you're reading this message in another frontend (for example, a static\n",
       "  rendering on GitHub or <a href=\"https://nbviewer.jupyter.org/\">NBViewer</a>),\n",
       "  it may mean that your frontend doesn't currently support widgets.\n",
       "</p>\n"
      ],
      "text/plain": [
       "Figure()"
      ]
     },
     "metadata": {},
     "output_type": "display_data"
    }
   ],
   "source": [
    "map_plot = gmaps.figure()\n",
    "heatmap_layer = gmaps.heatmap_layer(locations, point_radius=10, max_intensity=5)\n",
    "map_plot.add_layer(heatmap_layer)\n",
    "map_plot"
   ]
  }
 ],
 "metadata": {
  "kernelspec": {
   "display_name": "Python 3",
   "language": "python",
   "name": "python3"
  },
  "language_info": {
   "codemirror_mode": {
    "name": "ipython",
    "version": 3
   },
   "file_extension": ".py",
   "mimetype": "text/x-python",
   "name": "python",
   "nbconvert_exporter": "python",
   "pygments_lexer": "ipython3",
   "version": "3.6.4"
  }
 },
 "nbformat": 4,
 "nbformat_minor": 2
}
